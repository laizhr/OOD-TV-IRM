{
 "cells": [
  {
   "cell_type": "code",
   "execution_count": 5,
   "metadata": {},
   "outputs": [],
   "source": [
    "def create_command(searchArgs: dict):\n",
    "    argSentence = \"\"\n",
    "    for key, value in searchArgs.items():\n",
    "        arg_command = f\"--{key} {str(value)} \"\n",
    "        argSentence += arg_command\n",
    "    return argSentence\n"
   ]
  },
  {
   "cell_type": "code",
   "execution_count": 6,
   "metadata": {},
   "outputs": [],
   "source": [
    "from parameter import parameterMap\n",
    "\n",
    "# replace the path to your python.exe\n",
    "PYTHON_PATH = \"D:\\ProgramData\\Anaconda3\\envs\\wyc\\python.exe\"\n",
    "COMMAND = f\"{PYTHON_PATH} main.py \"\n",
    "# this defines the algorithms and datasets you can run\n",
    "algorithmList = [ \"IRM-TV\",\"ZIN\", \"IRM-TV-L1\", \"ZIN-TV-L1\"]\n",
    "datasetList = [\n",
    "    \"house_price\",\n",
    "    \"celebaz_feature\",\n",
    "    \"logit_z\",\n",
    "    \"landcover\",\n",
    "]"
   ]
  },
  {
   "cell_type": "code",
   "execution_count": 7,
   "metadata": {},
   "outputs": [
    {
     "name": "stdout",
     "output_type": "stream",
     "text": [
      "D:\\ProgramData\\Anaconda3\\envs\\wyc\\python.exe main.py  --l2_regularizer_weight 0.001 --irm_type irmv1_multi_class --dataset house_price --n_restarts 1 --seed 1 --hidden_dim_infer 64 --hidden_dim 32 --lr 0.005 --penalty_anneal_iters 5000 --steps 1 \n"
     ]
    }
   ],
   "source": [
    "# for algorithm in algorithmList:\n",
    "#     for dataset in datasetList:\n",
    "\n",
    "# choose the algorithm and dataset you want to run  \n",
    "algorithm = algorithmList[0]\n",
    "dataset = datasetList[0]\n",
    "arg = parameterMap[algorithm][dataset]\n",
    "argSentence = create_command(arg)\n",
    "full_command = f\"{COMMAND} {argSentence}\"\n",
    "print(full_command)\n"
   ]
  },
  {
   "cell_type": "code",
   "execution_count": 8,
   "metadata": {},
   "outputs": [
    {
     "name": "stdout",
     "output_type": "stream",
     "text": [
      "batch_size is 1024\n",
      "\taux_num: 7\n",
      "\tbatch_size: 1024\n",
      "\tclasses_num: 2\n",
      "\tcons_ratio: 0.999_0.7_0.999_0.001\n",
      "\tcons_test: 0.999_0.001\n",
      "\tcons_train: 0.999_0.7\n",
      "\tdata_num_test: 2000\n",
      "\tdata_num_train: 2000\n",
      "\tdataset: house_price\n",
      "\tdim_inv: 2\n",
      "\tdim_spu: 10\n",
      "\tenv_type: linear\n",
      "\tenvs_num_test: 2\n",
      "\tenvs_num_train: 2\n",
      "\thidden_dim: 32\n",
      "\thidden_dim_infer: 64\n",
      "\timage_scale: 64\n",
      "\tirm_type: irmv1_multi_class\n",
      "\tl2_regularizer_weight: 0.001\n",
      "\tlr: 0.005\n",
      "\tn_restarts: 1\n",
      "\tnoise_ratio: 0.1\n",
      "\tnum_classes: 2\n",
      "\topt: adam\n",
      "\tpenalty_anneal_iters: 5000\n",
      "\tpenalty_weight: 10000.0\n",
      "\tprint_every: 1\n",
      "\tscheduler: 0\n",
      "\tseed: 1\n",
      "\tsteps: 1\n",
      "\tz_class_num: 4\n",
      "Restart 0\n",
      "step            train loss      train penalty   train acc       test_acc        test_e0         test_e1         test_e2         test_e3         test_e4      \n",
      "0               1.22022         5.73442         0.99219         1.06368         0.80699         0.85173         1.15238         1.36100         0.92321      \n",
      "Final train acc (mean/std across restarts so far):\n",
      "0.9921884 0.0\n",
      "Final test acc (mean/std across restarts so far):\n",
      "1.0636765 0.0\n",
      "Worst test acc in evns: \n",
      "1.361005\n"
     ]
    },
    {
     "name": "stderr",
     "output_type": "stream",
     "text": [
      "D:\\ProgramData\\Anaconda3\\envs\\wyc\\Lib\\site-packages\\torch\\_tensor.py:775: UserWarning: non-inplace resize is deprecated\n",
      "  warnings.warn(\"non-inplace resize is deprecated\")\n"
     ]
    }
   ],
   "source": [
    "!{full_command}"
   ]
  }
 ],
 "metadata": {
  "kernelspec": {
   "display_name": "wyc",
   "language": "python",
   "name": "python3"
  },
  "language_info": {
   "codemirror_mode": {
    "name": "ipython",
    "version": 3
   },
   "file_extension": ".py",
   "mimetype": "text/x-python",
   "name": "python",
   "nbconvert_exporter": "python",
   "pygments_lexer": "ipython3",
   "version": "3.11.5"
  }
 },
 "nbformat": 4,
 "nbformat_minor": 2
}
