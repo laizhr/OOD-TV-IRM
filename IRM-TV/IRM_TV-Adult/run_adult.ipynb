{
 "cells": [
  {
   "cell_type": "code",
   "execution_count": 1,
   "metadata": {},
   "outputs": [],
   "source": [
    "def create_command(searchArgs: dict):\n",
    "    argSentence = \"\"\n",
    "    for key, value in searchArgs.items():\n",
    "        arg_command = f\"--{key} {str(value)} \"\n",
    "        argSentence += arg_command\n",
    "    return argSentence\n"
   ]
  },
  {
   "cell_type": "code",
   "execution_count": 2,
   "metadata": {},
   "outputs": [],
   "source": [
    "from parameter import parameterMap\n",
    "# replace the path to your python.exe\n",
    "PYTHON_PATH = \"D:\\ProgramData\\Anaconda3\\envs\\wyc\\python.exe\"\n",
    "COMMAND = f\"{PYTHON_PATH} main.py \"\n",
    "# this defines the algorithms and datasets you can run\n",
    "algorithmList = [\"IRM-TV\", \"ZIN\", \"IRM-TV-L1\", \"ZIN-TV-L1\"]\n",
    "datasetList = [\"adult\"]"
   ]
  },
  {
   "cell_type": "code",
   "execution_count": 3,
   "metadata": {},
   "outputs": [],
   "source": [
    "# choose the algorithm and dataset you want to run\n",
    "algorithm = algorithmList[0]\n",
    "dataset = datasetList[0]\n",
    "arg = parameterMap[algorithm][dataset]\n",
    "argSentence = create_command(arg)\n",
    "full_command = f\"{COMMAND} {argSentence}\"\n"
   ]
  },
  {
   "cell_type": "code",
   "execution_count": 4,
   "metadata": {},
   "outputs": [
    {
     "name": "stdout",
     "output_type": "stream",
     "text": [
      "batch_size is 1024"
     ]
    },
    {
     "name": "stderr",
     "output_type": "stream",
     "text": [
      "D:\\ProgramData\\Anaconda3\\envs\\wyc\\Lib\\site-packages\\torch\\_tensor.py:775: UserWarning: non-inplace resize is deprecated\n",
      "  warnings.warn(\"non-inplace resize is deprecated\")\n",
      "D:\\ProgramData\\Anaconda3\\envs\\wyc\\Lib\\site-packages\\torch\\_tensor.py:775: UserWarning: non-inplace resize is deprecated\n",
      "  warnings.warn(\"non-inplace resize is deprecated\")\n",
      "D:\\ProgramData\\Anaconda3\\envs\\wyc\\Lib\\site-packages\\torch\\_tensor.py:775: UserWarning: non-inplace resize is deprecated\n",
      "  warnings.warn(\"non-inplace resize is deprecated\")\n"
     ]
    },
    {
     "name": "stdout",
     "output_type": "stream",
     "text": [
      "\n",
      "\taux_num: 6\n",
      "\tbatch_size: 1024\n",
      "\tclasses_num: 2\n",
      "\tcons_test: 0.999_0.001\n",
      "\tcons_train: 0.999_0.7\n",
      "\tdata_num_test: 2000\n",
      "\tdata_num_train: 2000\n",
      "\tdataset: adult\n",
      "\tdim_inv: 2\n",
      "\tdim_spu: 10\n",
      "\tenv_type: linear\n",
      "\tenvs_num_test: 4\n",
      "\tenvs_num_train: 2\n",
      "\thidden_dim: 16\n",
      "\thidden_dim_infer: 16\n",
      "\timage_scale: 64\n",
      "\tirm_type: irmv1_multi_class\n",
      "\tl2_regularizer_weight: 0.001\n",
      "\tlr: 0.004\n",
      "\tn_restarts: 3\n",
      "\tnoise_ratio: 0.1\n",
      "\tnum_classes: 2\n",
      "\topt: adam\n",
      "\tpenalty_anneal_iters: 8000\n",
      "\tpenalty_weight: 2000.0\n",
      "\tprint_every: 1\n",
      "\tscheduler: 0\n",
      "\tseed: 1\n",
      "\tsteps: 5\n",
      "\tz_class_num: 4\n",
      "Restart 0\n",
      "step            train loss      train penalty   train acc       test_acc        test_e0         test_e1         test_e2         test_e3      \n",
      "0               0.57782         0.00170         0.78642         0.69339         0.77330         0.78695         0.81716         0.66756      \n",
      "1               0.54704         0.00381         0.81511         0.70618         0.78841         0.81050         0.85139         0.67701      \n",
      "2               0.51888         0.00609         0.83338         0.71658         0.79471         0.83146         0.87175         0.68513      \n",
      "3               0.49330         0.00820         0.84685         0.72339         0.80353         0.84767         0.89038         0.68956      \n",
      "4               0.47017         0.00994         0.85774         0.72897         0.81108         0.86063         0.90858         0.69299      \n",
      "Restart 1\n",
      "step            train loss      train penalty   train acc       test_acc        test_e0         test_e1         test_e2         test_e3      \n",
      "0               0.72195         0.00212         0.64176         0.58145         0.60335         0.65342         0.70884         0.56004      \n",
      "1               0.69234         0.00046         0.68097         0.60703         0.63687         0.70123         0.76646         0.57953      \n",
      "2               0.66410         6.93229e-07     0.71400         0.62685         0.65223         0.73544         0.80329         0.59591      \n",
      "3               0.63731         0.00044         0.74656         0.64574         0.68017         0.76668         0.83232         0.61190      \n",
      "4               0.61200         0.00150         0.76778         0.66203         0.69832         0.78878         0.85745         0.62656      \n",
      "Restart 2\n",
      "step            train loss      train penalty   train acc       test_acc        test_e0         test_e1         test_e2         test_e3      \n",
      "0               1.30081         0.36114         0.25916         0.34434         0.26027         0.24313         0.21360         0.37198      \n",
      "1               1.23755         0.28656         0.28490         0.35624         0.27522         0.27473         0.24523         0.37928      \n",
      "2               1.17692         0.22375         0.31221         0.36955         0.30012         0.30180         0.27730         0.38876      \n",
      "3               1.11897         0.17152         0.34459         0.38450         0.31631         0.33341         0.31412         0.39946      \n",
      "4               1.06371         0.12871         0.37513         0.40049         0.32379         0.36675         0.35529         0.41113      \n",
      "Final train acc (mean/std across restarts so far):\n",
      "0.666882 0.20954499\n",
      "Final test acc (mean/std across restarts so far):\n",
      "0.5971633 0.14172561\n",
      "Worst test acc in evns: \n",
      "0.54778147 0.16069382\n"
     ]
    }
   ],
   "source": [
    "!{full_command}"
   ]
  }
 ],
 "metadata": {
  "kernelspec": {
   "display_name": "wyc",
   "language": "python",
   "name": "python3"
  },
  "language_info": {
   "codemirror_mode": {
    "name": "ipython",
    "version": 3
   },
   "file_extension": ".py",
   "mimetype": "text/x-python",
   "name": "python",
   "nbconvert_exporter": "python",
   "pygments_lexer": "ipython3",
   "version": "3.11.5"
  }
 },
 "nbformat": 4,
 "nbformat_minor": 2
}
