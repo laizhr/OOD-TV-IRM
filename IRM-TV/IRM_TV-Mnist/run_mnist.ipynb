{
 "cells": [
  {
   "cell_type": "code",
   "execution_count": 13,
   "metadata": {},
   "outputs": [],
   "source": [
    "def create_command(searchArgs: dict):\n",
    "    argSentence = \"\"\n",
    "    for key, value in searchArgs.items():\n",
    "        arg_command = f\"--{key} {str(value)} \"\n",
    "        argSentence += arg_command\n",
    "    return argSentence\n"
   ]
  },
  {
   "cell_type": "code",
   "execution_count": 14,
   "metadata": {},
   "outputs": [],
   "source": [
    "from parameter import parameterMap\n",
    "\n",
    "# replace the path to your python.exe\n",
    "PYTHON_PATH = \"D:\\ProgramData\\Anaconda3\\envs\\wyc\\python.exe\"\n",
    "COMMAND = f\"{PYTHON_PATH} main.py \"\n",
    "# this defines the algorithms and datasets you can run\n",
    "algorithmList = [\"ZIN-TV-L1\"]\n",
    "datasetList = [\"mnist\"]"
   ]
  },
  {
   "cell_type": "code",
   "execution_count": 15,
   "metadata": {},
   "outputs": [],
   "source": [
    "# choose the algorithm and dataset you want to run\n",
    "algorithm = algorithmList[0]\n",
    "dataset = datasetList[0]\n",
    "arg = parameterMap[algorithm][dataset]\n",
    "argSentence = create_command(arg)\n",
    "full_command = f\"{COMMAND} {argSentence}\"\n"
   ]
  },
  {
   "cell_type": "code",
   "execution_count": 16,
   "metadata": {},
   "outputs": [
    {
     "name": "stdout",
     "output_type": "stream",
     "text": [
      "batch_size is 1024\n",
      "\taux_num: 3\n",
      "\tbatch_size: 1024\n",
      "\tclasses_num: 3\n",
      "\tcons_ratio: 0.999_0.8_0.01_0.2_0.8_0.999\n",
      "\tcons_test: 0.01_0.2_0.8_0.999\n",
      "\tcons_train: 0.999_0.8\n",
      "\tdata_num_test: 2000\n",
      "\tdata_num_train: 2000\n",
      "\tdataset: mnist\n",
      "\tdim_inv: 5\n",
      "\tdim_spu: 5\n",
      "\tenv_type: linear\n",
      "\tenvs_num_test: 4\n",
      "\tenvs_num_train: 2\n",
      "\thidden_dim: 16\n",
      "\thidden_dim_infer: 16\n",
      "\timage_scale: 64\n",
      "\tirm_type: infer_irmv1_multi_class_tvl1\n",
      "\tl2_regularizer_weight: 0.001\n",
      "\tlr: 0.01\n",
      "\tn_restarts: 1\n",
      "\tnoise_ratio: 0.2\n",
      "\tnum_classes: 6\n",
      "\topt: adam\n",
      "\tpenalty_anneal_iters: 2\n",
      "\tpenalty_weight: 2.0\n",
      "\tprint_every: 1\n",
      "\tscheduler: 0\n",
      "\tseed: 112\n",
      "\tsteps: 20\n",
      "\tz_class_num: 1\n",
      "Restart 0\n"
     ]
    },
    {
     "name": "stderr",
     "output_type": "stream",
     "text": [
      "\n",
      "  0%|          | 0/20 [00:00<?, ?it/s]\n",
      "  5%|▌         | 1/20 [00:16<05:14, 16.55s/it]\n",
      " 10%|█         | 2/20 [00:35<05:12, 17.38s/it]\n",
      " 15%|█▌        | 3/20 [00:55<05:05, 17.98s/it]\n",
      " 20%|██        | 4/20 [01:11<04:38, 17.40s/it]\n",
      " 25%|██▌       | 5/20 [01:30<04:31, 18.07s/it]\n",
      " 30%|███       | 6/20 [01:45<03:57, 16.97s/it]\n",
      " 35%|███▌      | 7/20 [02:01<03:37, 16.72s/it]\n",
      " 40%|████      | 8/20 [02:17<03:16, 16.41s/it]\n",
      " 45%|████▌     | 9/20 [02:33<03:00, 16.44s/it]\n",
      " 50%|█████     | 10/20 [02:50<02:46, 16.68s/it]\n",
      " 55%|█████▌    | 11/20 [03:06<02:25, 16.21s/it]\n",
      " 60%|██████    | 12/20 [03:23<02:12, 16.60s/it]\n",
      " 65%|██████▌   | 13/20 [03:39<01:54, 16.35s/it]\n",
      " 70%|███████   | 14/20 [03:56<01:39, 16.54s/it]\n",
      " 75%|███████▌  | 15/20 [04:13<01:24, 16.80s/it]\n",
      " 80%|████████  | 16/20 [04:29<01:05, 16.48s/it]\n",
      " 85%|████████▌ | 17/20 [04:43<00:47, 15.86s/it]\n",
      " 90%|█████████ | 18/20 [04:59<00:31, 15.92s/it]\n",
      " 95%|█████████▌| 19/20 [05:15<00:15, 15.86s/it]\n",
      "100%|██████████| 20/20 [05:32<00:00, 16.06s/it]\n",
      "100%|██████████| 20/20 [05:32<00:00, 16.61s/it]\n"
     ]
    }
   ],
   "source": [
    "!{full_command}"
   ]
  }
 ],
 "metadata": {
  "kernelspec": {
   "display_name": "wyc",
   "language": "python",
   "name": "python3"
  },
  "language_info": {
   "codemirror_mode": {
    "name": "ipython",
    "version": 3
   },
   "file_extension": ".py",
   "mimetype": "text/x-python",
   "name": "python",
   "nbconvert_exporter": "python",
   "pygments_lexer": "ipython3",
   "version": "3.11.5"
  }
 },
 "nbformat": 4,
 "nbformat_minor": 2
}
