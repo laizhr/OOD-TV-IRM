{
 "cells": [
  {
   "cell_type": "code",
   "execution_count": 1,
   "metadata": {},
   "outputs": [],
   "source": [
    "def create_command(searchArgs: dict):\n",
    "    argSentence = \"\"\n",
    "    for key, value in searchArgs.items():\n",
    "        arg_command = f\"--{key} {str(value)} \"\n",
    "        argSentence += arg_command\n",
    "    return argSentence\n"
   ]
  },
  {
   "cell_type": "code",
   "execution_count": 2,
   "metadata": {},
   "outputs": [],
   "source": [
    "from parameter import parameterMap\n",
    "\n",
    "# replace the path to your python.exe\n",
    "PYTHON_PATH = \"D:\\ProgramData\\Anaconda3\\envs\\wyc\\python.exe\"\n",
    "COMMAND = f\"{PYTHON_PATH} main.py \"\n",
    "# this defines the algorithms and datasets you can run\n",
    "algorithmList = [\"IRMV1\", \"ZIN\", \"IRM-TV-L1\", \"ZIN-TV-L1\"]\n",
    "datasetList = [\"house_price\"]\n",
    "\n",
    "\n"
   ]
  },
  {
   "cell_type": "code",
   "execution_count": 3,
   "metadata": {},
   "outputs": [
    {
     "name": "stdout",
     "output_type": "stream",
     "text": [
      "D:\\ProgramData\\Anaconda3\\envs\\wyc\\python.exe main.py  --l2_regularizer_weight 0.001 --irm_type irmv1_multi_class --dataset house_price --n_restarts 1 --seed 1 --hidden_dim_infer 64 --hidden_dim 32 --penalty_weight_anneal 2000 --lr 0.004 --lr2 0.01 --penalty_anneal_iters 2000 --steps 1 \n"
     ]
    }
   ],
   "source": [
    "# choose the algorithm and dataset you want to run\n",
    "\n",
    "algorithm = algorithmList[0]\n",
    "dataset = datasetList[0]\n",
    "arg = parameterMap[algorithm][dataset]\n",
    "argSentence = create_command(arg)\n",
    "full_command = f\"{COMMAND} {argSentence}\"\n",
    "print(full_command)\n"
   ]
  },
  {
   "cell_type": "code",
   "execution_count": 4,
   "metadata": {},
   "outputs": [
    {
     "name": "stdout",
     "output_type": "stream",
     "text": [
      "batch_size is 1024\n",
      "\taux_num: 7\n",
      "\tbatch_size: 1024\n",
      "\tclasses_num: 2\n",
      "\tcons_ratio: 0.999_0.7_0.999_0.001\n",
      "\tcons_test: 0.999_0.001\n",
      "\tcons_train: 0.999_0.7\n",
      "\tdata_num_test: 2000\n",
      "\tdata_num_train: 2000\n",
      "\tdataset: house_price\n",
      "\tdim_inv: 2\n",
      "\tdim_spu: 10\n",
      "\tenv_type: linear\n",
      "\tenvs_num_test: 2\n",
      "\tenvs_num_train: 2\n",
      "\thidden_dim: 32\n",
      "\thidden_dim_infer: 64\n",
      "\timage_scale: 64\n",
      "\tirm_type: irmv1_multi_class\n",
      "\tl2_regularizer_weight: 0.001\n",
      "\tlr: 0.004\n",
      "\tlr2: 0.01\n",
      "\tn_restarts: 1\n",
      "\tnoise_ratio: 0.1\n",
      "\tnum_classes: 2\n",
      "\topt: adam\n",
      "\tpenalty_anneal_iters: 2000\n",
      "\tpenalty_weight: 10000.0\n",
      "\tpenalty_weight_anneal: 2000\n",
      "\tprint_every: 1\n",
      "\tscheduler: 0\n",
      "\tseed: 1\n",
      "\tsteps: 1\n",
      "\tz_class_num: 4\n",
      "Restart 0\n",
      "----------------------------------------------------------------\n",
      "        Layer (type)               Output Shape         Param #\n",
      "================================================================\n",
      "            Linear-1                [-1, 1, 32]          17,472\n",
      "              ReLU-2                [-1, 1, 32]               0\n",
      "            Linear-3                [-1, 1, 16]             528\n",
      "          Softplus-4                [-1, 1, 16]               0\n",
      "            Linear-5                 [-1, 1, 1]              17\n",
      "================================================================\n",
      "Total params: 18,017\n",
      "Trainable params: 18,017\n",
      "Non-trainable params: 0\n",
      "----------------------------------------------------------------\n",
      "Input size (MB): 0.00\n",
      "Forward/backward pass size (MB): 0.00\n",
      "Params size (MB): 0.07\n",
      "Estimated Total Size (MB): 0.07\n",
      "----------------------------------------------------------------\n",
      "None\n",
      "step            train loss      train penalty   penalty weight   train acc       test_acc        test_e0         test_e1         test_e2         test_e3         test_e4      \n"
     ]
    },
    {
     "name": "stderr",
     "output_type": "stream",
     "text": [
      "\n",
      "  0%|          | 0/1 [00:00<?, ?it/s]D:\\ProgramData\\Anaconda3\\envs\\wyc\\Lib\\site-packages\\torch\\_tensor.py:775: UserWarning: non-inplace resize is deprecated\n",
      "  warnings.warn(\"non-inplace resize is deprecated\")\n",
      "\n",
      "100%|██████████| 1/1 [00:00<00:00,  2.65it/s]\n",
      "100%|██████████| 1/1 [00:00<00:00,  2.64it/s]\n"
     ]
    }
   ],
   "source": [
    "!{full_command}"
   ]
  }
 ],
 "metadata": {
  "kernelspec": {
   "display_name": "wyc",
   "language": "python",
   "name": "python3"
  },
  "language_info": {
   "codemirror_mode": {
    "name": "ipython",
    "version": 3
   },
   "file_extension": ".py",
   "mimetype": "text/x-python",
   "name": "python",
   "nbconvert_exporter": "python",
   "pygments_lexer": "ipython3",
   "version": "3.11.5"
  }
 },
 "nbformat": 4,
 "nbformat_minor": 2
}
