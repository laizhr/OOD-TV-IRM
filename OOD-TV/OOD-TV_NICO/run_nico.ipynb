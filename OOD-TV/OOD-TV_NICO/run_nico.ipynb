{
 "cells": [
  {
   "cell_type": "code",
   "execution_count": 1,
   "metadata": {},
   "outputs": [],
   "source": [
    "def create_command(searchArgs: dict):\n",
    "    argSentence = \"\"\n",
    "    for key, value in searchArgs.items():\n",
    "        arg_command = f\"--{key} {str(value)} \"\n",
    "        argSentence += arg_command\n",
    "    return argSentence\n"
   ]
  },
  {
   "cell_type": "code",
   "execution_count": 2,
   "metadata": {},
   "outputs": [],
   "source": [
    "from parameter import parameterMap\n",
    "\n",
    "# replace the path to your python.exe\n",
    "PYTHON_PATH = \"D:\\ProgramData\\Anaconda3\\envs\\wyc\\python.exe\"\n",
    "COMMAND = f\"{PYTHON_PATH} main.py \"\n",
    "# this defines the norm and subclass you can run\n",
    "normList = [\"l1\", \"l2\"]\n",
    "subclassList = [\"animal\",\"vehicle\"]"
   ]
  },
  {
   "cell_type": "code",
   "execution_count": null,
   "metadata": {},
   "outputs": [
    {
     "name": "stdout",
     "output_type": "stream",
     "text": [
      "D:\\ProgramData\\Anaconda3\\envs\\wyc\\python.exe main.py  --aux_num 3 --batch_size 1024 --seed 112 --classes_num 3 --dataset nico --opt adam --l2_regularizer_weight 0.001 --n_restarts 1 --num_classes 6 --z_class_num 1 --noise_ratio 0.2 --cons_train 0.999_0.8 --cons_test 0.01_0.2_0.8_0.999 --penalty_weight 2 --dim_inv 5 --dim_sp 5 --irm_type infer_irmv1_multi_class_tvl1 --lr 0.0001 --lr2 1e-05 --envs_num_train 0 --envs_num_test 0 --steps 1 --penalty_anneal_iters 1 --penalty_weight_anneal 1 --norm l1 --subclass animal \n",
      "batch_size is 1024\n",
      "\taux_num: 3\n",
      "\tbatch_size: 1024\n",
      "\tclasses_num: 3\n",
      "\tcons_ratio: 0.999_0.8_0.01_0.2_0.8_0.999\n",
      "\tcons_test: 0.01_0.2_0.8_0.999\n",
      "\tcons_train: 0.999_0.8\n",
      "\tdata_num_test: 2000\n",
      "\tdata_num_train: 2000\n",
      "\tdataset: nico\n",
      "\tdim_inv: 5\n",
      "\tdim_spu: 5\n",
      "\tenv_type: linear\n",
      "\tenvs_num_test: 4\n",
      "\tenvs_num_train: 2\n",
      "\thidden_dim: 16\n",
      "\thidden_dim_infer: 16\n",
      "\timage_scale: 64\n",
      "\tirm_type: infer_irmv1_multi_class_tvl1\n",
      "\tl2_regularizer_weight: 0.001\n",
      "\tlr: 0.0001\n",
      "\tlr2: 1e-05\n",
      "\tn_restarts: 1\n",
      "\tnoise_ratio: 0.2\n",
      "\tnorm: l1\n",
      "\tnum_classes: 6\n",
      "\topt: adam\n",
      "\tpenalty_anneal_iters: 1\n",
      "\tpenalty_weight: 2.0\n",
      "\tpenalty_weight_anneal: 1\n",
      "\tprint_every: 1\n",
      "\tscheduler: 0\n",
      "\tseed: 112\n",
      "\tsteps: 1\n",
      "\tsubclass: animal\n",
      "\tz_class_num: 1\n",
      "Restart 0\n",
      "scale: tensor([1., 1., 1., 1., 1., 1., 1., 1., 1., 1.], device='cuda:0',\n",
      "       requires_grad=True)\n",
      "step            train loss      train penalty   penalty weight   train acc       test_acc     \n",
      "D:\\ProgramData\\Anaconda3\\envs\\wyc\\python.exe main.py  --aux_num 3 --batch_size 1024 --seed 112 --classes_num 3 --dataset nico --opt adam --l2_regularizer_weight 0.001 --n_restarts 1 --num_classes 6 --z_class_num 1 --noise_ratio 0.2 --cons_train 0.999_0.8 --cons_test 0.01_0.2_0.8_0.999 --penalty_weight 2 --dim_inv 5 --dim_sp 5 --irm_type infer_irmv1_multi_class_tvl1 --lr 0.002 --lr2 1e-05 --envs_num_train 0 --envs_num_test 0 --steps 1 --penalty_anneal_iters 1 --penalty_weight_anneal 1 --norm l1 --subclass vehicle \n"
     ]
    },
    {
     "name": "stderr",
     "output_type": "stream",
     "text": [
      "D:\\ProgramData\\Anaconda3\\envs\\wyc\\Lib\\site-packages\\torchvision\\models\\_utils.py:208: UserWarning: The parameter 'pretrained' is deprecated since 0.13 and may be removed in the future, please use 'weights' instead.\n",
      "  warnings.warn(\n",
      "D:\\ProgramData\\Anaconda3\\envs\\wyc\\Lib\\site-packages\\torchvision\\models\\_utils.py:223: UserWarning: Arguments other than a weight enum or `None` for 'weights' are deprecated since 0.13 and may be removed in the future. The current behavior is equivalent to passing `weights=ResNet18_Weights.IMAGENET1K_V1`. You can also use `weights=ResNet18_Weights.DEFAULT` to get the most up-to-date weights.\n",
      "  warnings.warn(msg)\n",
      "\n",
      "  0%|          | 0/1 [00:00<?, ?it/s]D:\\ProgramData\\Anaconda3\\envs\\wyc\\Lib\\site-packages\\PIL\\Image.py:996: UserWarning: Palette images with Transparency expressed in bytes should be converted to RGBA images\n",
      "  warnings.warn(\n",
      "\n",
      "100%|██████████| 1/1 [20:06<00:00, 1206.25s/it]\n",
      "100%|██████████| 1/1 [20:06<00:00, 1206.26s/it]\n"
     ]
    },
    {
     "name": "stdout",
     "output_type": "stream",
     "text": [
      "batch_size is 1024\n",
      "\taux_num: 3\n",
      "\tbatch_size: 1024\n",
      "\tclasses_num: 3\n",
      "\tcons_ratio: 0.999_0.8_0.01_0.2_0.8_0.999\n",
      "\tcons_test: 0.01_0.2_0.8_0.999\n",
      "\tcons_train: 0.999_0.8\n",
      "\tdata_num_test: 2000\n",
      "\tdata_num_train: 2000\n",
      "\tdataset: nico\n",
      "\tdim_inv: 5\n",
      "\tdim_spu: 5\n",
      "\tenv_type: linear\n",
      "\tenvs_num_test: 4\n",
      "\tenvs_num_train: 2\n",
      "\thidden_dim: 16\n",
      "\thidden_dim_infer: 16\n",
      "\timage_scale: 64\n",
      "\tirm_type: infer_irmv1_multi_class_tvl1\n",
      "\tl2_regularizer_weight: 0.001\n",
      "\tlr: 0.002\n",
      "\tlr2: 1e-05\n",
      "\tn_restarts: 1\n",
      "\tnoise_ratio: 0.2\n",
      "\tnorm: l1\n",
      "\tnum_classes: 6\n",
      "\topt: adam\n",
      "\tpenalty_anneal_iters: 1\n",
      "\tpenalty_weight: 2.0\n",
      "\tpenalty_weight_anneal: 1\n",
      "\tprint_every: 1\n",
      "\tscheduler: 0\n",
      "\tseed: 112\n",
      "\tsteps: 1\n",
      "\tsubclass: vehicle\n",
      "\tz_class_num: 1\n",
      "Restart 0\n",
      "scale: tensor([1., 1., 1., 1., 1., 1., 1., 1., 1.], device='cuda:0',\n",
      "       requires_grad=True)\n",
      "step            train loss      train penalty   penalty weight   train acc       test_acc     \n",
      "D:\\ProgramData\\Anaconda3\\envs\\wyc\\python.exe main.py  --aux_num 3 --batch_size 1024 --seed 112 --classes_num 3 --dataset nico --opt adam --l2_regularizer_weight 0.001 --n_restarts 1 --num_classes 6 --z_class_num 1 --noise_ratio 0.2 --cons_train 0.999_0.8 --cons_test 0.01_0.2_0.8_0.999 --penalty_weight 2 --dim_inv 5 --dim_sp 5 --irm_type infer_irmv1_multi_class_tvl1 --lr 0.0002 --lr2 1e-05 --envs_num_train 0 --envs_num_test 0 --steps 1 --penalty_anneal_iters 1 --penalty_weight_anneal 1 --norm l2 --subclass animal \n"
     ]
    },
    {
     "name": "stderr",
     "output_type": "stream",
     "text": [
      "D:\\ProgramData\\Anaconda3\\envs\\wyc\\Lib\\site-packages\\torchvision\\models\\_utils.py:208: UserWarning: The parameter 'pretrained' is deprecated since 0.13 and may be removed in the future, please use 'weights' instead.\n",
      "  warnings.warn(\n",
      "D:\\ProgramData\\Anaconda3\\envs\\wyc\\Lib\\site-packages\\torchvision\\models\\_utils.py:223: UserWarning: Arguments other than a weight enum or `None` for 'weights' are deprecated since 0.13 and may be removed in the future. The current behavior is equivalent to passing `weights=ResNet18_Weights.IMAGENET1K_V1`. You can also use `weights=ResNet18_Weights.DEFAULT` to get the most up-to-date weights.\n",
      "  warnings.warn(msg)\n",
      "\n",
      "  0%|          | 0/1 [00:00<?, ?it/s]D:\\ProgramData\\Anaconda3\\envs\\wyc\\Lib\\site-packages\\PIL\\Image.py:996: UserWarning: Palette images with Transparency expressed in bytes should be converted to RGBA images\n",
      "  warnings.warn(\n",
      "\n",
      "100%|██████████| 1/1 [18:18<00:00, 1098.58s/it]\n",
      "100%|██████████| 1/1 [18:18<00:00, 1098.59s/it]\n"
     ]
    },
    {
     "name": "stdout",
     "output_type": "stream",
     "text": [
      "D:\\ProgramData\\Anaconda3\\envs\\wyc\\python.exe main.py  --aux_num 3 --batch_size 1024 --seed 112 --classes_num 3 --dataset nico --opt adam --l2_regularizer_weight 0.001 --n_restarts 1 --num_classes 6 --z_class_num 1 --noise_ratio 0.2 --cons_train 0.999_0.8 --cons_test 0.01_0.2_0.8_0.999 --penalty_weight 2 --dim_inv 5 --dim_sp 5 --irm_type infer_irmv1_multi_class_tvl1 --lr 0.001 --lr2 1e-05 --envs_num_train 0 --envs_num_test 0 --steps 1 --penalty_anneal_iters 1 --penalty_weight_anneal 1 --norm l2 --subclass vehicle batch_size is 1024\n",
      "\taux_num: 3\n",
      "\tbatch_size: 1024\n",
      "\tclasses_num: 3\n",
      "\tcons_ratio: 0.999_0.8_0.01_0.2_0.8_0.999\n",
      "\tcons_test: 0.01_0.2_0.8_0.999\n",
      "\tcons_train: 0.999_0.8\n",
      "\tdata_num_test: 2000\n",
      "\tdata_num_train: 2000\n",
      "\tdataset: nico\n",
      "\tdim_inv: 5\n",
      "\tdim_spu: 5\n",
      "\tenv_type: linear\n",
      "\tenvs_num_test: 4\n",
      "\tenvs_num_train: 2\n",
      "\thidden_dim: 16\n",
      "\thidden_dim_infer: 16\n",
      "\timage_scale: 64\n",
      "\tirm_type: infer_irmv1_multi_class_tvl1\n",
      "\tl2_regularizer_weight: 0.001\n",
      "\tlr: 0.0002\n",
      "\tlr2: 1e-05\n",
      "\tn_restarts: 1\n",
      "\tnoise_ratio: 0.2\n",
      "\tnorm: l2\n",
      "\tnum_classes: 6\n",
      "\topt: adam\n",
      "\tpenalty_anneal_iters: 1\n",
      "\tpenalty_weight: 2.0\n",
      "\tpenalty_weight_anneal: 1\n",
      "\tprint_every: 1\n",
      "\tscheduler: 0\n",
      "\tseed: 112\n",
      "\tsteps: 1\n",
      "\tsubclass: animal\n",
      "\tz_class_num: 1\n",
      "Restart 0\n",
      "scale: tensor([1., 1., 1., 1., 1., 1., 1., 1., 1., 1.], device='cuda:0',\n",
      "       requires_grad=True)\n",
      "step            train loss      train penalty   penalty weight   train acc       test_acc     \n",
      "\n"
     ]
    },
    {
     "name": "stderr",
     "output_type": "stream",
     "text": [
      "D:\\ProgramData\\Anaconda3\\envs\\wyc\\Lib\\site-packages\\torchvision\\models\\_utils.py:208: UserWarning: The parameter 'pretrained' is deprecated since 0.13 and may be removed in the future, please use 'weights' instead.\n",
      "  warnings.warn(\n",
      "D:\\ProgramData\\Anaconda3\\envs\\wyc\\Lib\\site-packages\\torchvision\\models\\_utils.py:223: UserWarning: Arguments other than a weight enum or `None` for 'weights' are deprecated since 0.13 and may be removed in the future. The current behavior is equivalent to passing `weights=ResNet18_Weights.IMAGENET1K_V1`. You can also use `weights=ResNet18_Weights.DEFAULT` to get the most up-to-date weights.\n",
      "  warnings.warn(msg)\n",
      "\n",
      "  0%|          | 0/1 [00:00<?, ?it/s]D:\\ProgramData\\Anaconda3\\envs\\wyc\\Lib\\site-packages\\PIL\\Image.py:996: UserWarning: Palette images with Transparency expressed in bytes should be converted to RGBA images\n",
      "  warnings.warn(\n",
      "\n",
      "100%|██████████| 1/1 [20:02<00:00, 1202.01s/it]\n",
      "100%|██████████| 1/1 [20:02<00:00, 1202.01s/it]\n"
     ]
    },
    {
     "name": "stdout",
     "output_type": "stream",
     "text": [
      "batch_size is 1024\n",
      "\taux_num: 3\n",
      "\tbatch_size: 1024\n",
      "\tclasses_num: 3\n",
      "\tcons_ratio: 0.999_0.8_0.01_0.2_0.8_0.999\n",
      "\tcons_test: 0.01_0.2_0.8_0.999\n",
      "\tcons_train: 0.999_0.8\n",
      "\tdata_num_test: 2000\n",
      "\tdata_num_train: 2000\n",
      "\tdataset: nico\n",
      "\tdim_inv: 5\n",
      "\tdim_spu: 5\n",
      "\tenv_type: linear\n",
      "\tenvs_num_test: 4\n",
      "\tenvs_num_train: 2\n",
      "\thidden_dim: 16\n",
      "\thidden_dim_infer: 16\n",
      "\timage_scale: 64\n",
      "\tirm_type: infer_irmv1_multi_class_tvl1\n",
      "\tl2_regularizer_weight: 0.001\n",
      "\tlr: 0.001\n",
      "\tlr2: 1e-05\n",
      "\tn_restarts: 1\n",
      "\tnoise_ratio: 0.2\n",
      "\tnorm: l2\n",
      "\tnum_classes: 6\n",
      "\topt: adam\n",
      "\tpenalty_anneal_iters: 1\n",
      "\tpenalty_weight: 2.0\n",
      "\tpenalty_weight_anneal: 1\n",
      "\tprint_every: 1\n",
      "\tscheduler: 0\n",
      "\tseed: 112\n",
      "\tsteps: 1\n",
      "\tsubclass: vehicle\n",
      "\tz_class_num: 1\n",
      "Restart 0\n",
      "scale: tensor([1., 1., 1., 1., 1., 1., 1., 1., 1.], device='cuda:0',\n",
      "       requires_grad=True)\n",
      "step            train loss      train penalty   penalty weight   train acc       test_acc     \n"
     ]
    },
    {
     "name": "stderr",
     "output_type": "stream",
     "text": [
      "D:\\ProgramData\\Anaconda3\\envs\\wyc\\Lib\\site-packages\\torchvision\\models\\_utils.py:208: UserWarning: The parameter 'pretrained' is deprecated since 0.13 and may be removed in the future, please use 'weights' instead.\n",
      "  warnings.warn(\n",
      "D:\\ProgramData\\Anaconda3\\envs\\wyc\\Lib\\site-packages\\torchvision\\models\\_utils.py:223: UserWarning: Arguments other than a weight enum or `None` for 'weights' are deprecated since 0.13 and may be removed in the future. The current behavior is equivalent to passing `weights=ResNet18_Weights.IMAGENET1K_V1`. You can also use `weights=ResNet18_Weights.DEFAULT` to get the most up-to-date weights.\n",
      "  warnings.warn(msg)\n",
      "\n",
      "  0%|          | 0/1 [00:00<?, ?it/s]D:\\ProgramData\\Anaconda3\\envs\\wyc\\Lib\\site-packages\\PIL\\Image.py:996: UserWarning: Palette images with Transparency expressed in bytes should be converted to RGBA images\n",
      "  warnings.warn(\n",
      "\n",
      "100%|██████████| 1/1 [21:36<00:00, 1296.03s/it]\n",
      "100%|██████████| 1/1 [21:36<00:00, 1296.04s/it]\n"
     ]
    }
   ],
   "source": [
    "# choose the algorithm and dataset you want to run\n",
    "\n",
    "# for norm in normList:\n",
    "#     for subclass in subclassList:\n",
    "norm = normList[0]\n",
    "subclass = subclassList[0]\n",
    "arg = parameterMap[norm][subclass]\n",
    "argSentence = create_command(arg)\n",
    "full_command = f\"{COMMAND} {argSentence}\"\n",
    "print(full_command)\n"
   ]
  },
  {
   "cell_type": "code",
   "execution_count": 4,
   "metadata": {},
   "outputs": [
    {
     "name": "stdout",
     "output_type": "stream",
     "text": [
      "^C\n"
     ]
    }
   ],
   "source": [
    "!{full_command}"
   ]
  }
 ],
 "metadata": {
  "kernelspec": {
   "display_name": "wyc",
   "language": "python",
   "name": "python3"
  },
  "language_info": {
   "codemirror_mode": {
    "name": "ipython",
    "version": 3
   },
   "file_extension": ".py",
   "mimetype": "text/x-python",
   "name": "python",
   "nbconvert_exporter": "python",
   "pygments_lexer": "ipython3",
   "version": "3.11.5"
  }
 },
 "nbformat": 4,
 "nbformat_minor": 2
}
