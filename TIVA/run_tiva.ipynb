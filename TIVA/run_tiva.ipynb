{
 "cells": [
  {
   "cell_type": "code",
   "execution_count": 5,
   "metadata": {},
   "outputs": [],
   "source": [
    "def create_command(searchArgs: dict):\n",
    "    argSentence = \"\"\n",
    "    for key, value in searchArgs.items():\n",
    "        arg_command = f\"--{key} {str(value)} \"\n",
    "        argSentence += arg_command\n",
    "    return argSentence\n"
   ]
  },
  {
   "cell_type": "code",
   "execution_count": 6,
   "metadata": {},
   "outputs": [],
   "source": [
    "from parameter import parameterMap\n",
    "\n",
    "# replace the path to your python.exe\n",
    "PYTHON_PATH = \"D:\\ProgramData\\Anaconda3\\envs\\wyc\\python.exe\"\n",
    "COMMAND = f\"{PYTHON_PATH} main.py \"\n",
    "# this defines the algorithms and datasets you can run\n",
    "algorithmList = [\"TIVA\"]\n",
    "datasetList = [\n",
    "    \"adult\",\n",
    "    \"house_price\",\n",
    "    \"celebaz_feature\",\n",
    "    \"logit_z\",\n",
    "    \"landcover\",\n",
    "]\n",
    "\n",
    "\n"
   ]
  },
  {
   "cell_type": "code",
   "execution_count": 7,
   "metadata": {},
   "outputs": [
    {
     "name": "stdout",
     "output_type": "stream",
     "text": [
      "D:\\ProgramData\\Anaconda3\\envs\\wyc\\python.exe main.py  --l2_regularizer_weight 0.001 --irm_type infer_adver --dataset adult --n_restarts 3 --seed 1 --lr 0.01 --aux_num 6 --z_class_num 4 --penalty_anneal_iters 950 --num_classes 1 --steps 1 \n"
     ]
    }
   ],
   "source": [
    "# choose the algorithm and dataset you want to run\n",
    "\n",
    "\n",
    "# for algorithm in algorithmList:\n",
    "#     for dataset in datasetList:\n",
    "#         arg = parameterMap[algorithm][dataset]\n",
    "#         argSentence = create_command(arg)\n",
    "#         full_command = f\"{COMMAND} {argSentence}\"\n",
    "#         print(full_command)\n",
    "#         !{full_command}\n",
    "        \n",
    "algorithm = algorithmList[0]\n",
    "dataset = datasetList[0]\n",
    "arg = parameterMap[algorithm][dataset]\n",
    "argSentence = create_command(arg)\n",
    "full_command = f\"{COMMAND} {argSentence}\"\n",
    "print(full_command)\n"
   ]
  },
  {
   "cell_type": "code",
   "execution_count": 8,
   "metadata": {},
   "outputs": [
    {
     "name": "stdout",
     "output_type": "stream",
     "text": [
      "batch_size is 1024\n",
      "Flags:\n",
      "outputing cmd to cmd.txt\n",
      "\taux_num: 6\n",
      "\tbatch_size: 1024\n",
      "\tclasses_num: 2\n",
      "\tcons_ratio: 0.999_0.7_0.01_0.2_0.8_0.999\n",
      "\tcons_test: 0.01_0.2_0.8_0.999\n",
      "\tcons_train: 0.999_0.7\n",
      "\tdata_num_test: 5000\n",
      "\tdata_num_train: 5000\n",
      "\tdataset: adult\n",
      "\tdim_inv: 5\n",
      "\tdim_spu: 5\n",
      "\tenv_type: linear\n",
      "\tenvs_num_test: 4\n",
      "\tenvs_num_train: 2\n",
      "\tgpu: 0\n",
      "\tgrayscale_model: 0\n",
      "\thidden_dim: 16\n",
      "\thidden_dim_infer: 16\n",
      "\tib_reg: 0.005\n",
      "\timage_scale: 64\n",
      "\tinner_steps: 1\n",
      "\tirm_type: infer_adver\n",
      "\tl2_regularizer_weight: 0.001\n",
      "\tlr: 0.01\n",
      "\tn_restarts: 3\n",
      "\tnoise_ratio: 0.1\n",
      "\tnum_classes: 1\n",
      "\topt: adam\n",
      "\tpenalty_anneal_iters: 950\n",
      "\tpenalty_type: tv_l2\n",
      "\tpenalty_weight: 10000\n",
      "\tprint_every: 1\n",
      "\tprior_sd_coef: 50\n",
      "\tradius: 1\n",
      "\tsave_last: 0\n",
      "\tscheduler: 0\n",
      "\tseed: 1\n",
      "\tsfx: adhfoadf\n",
      "\tstep_gamma: 1.0\n",
      "\tstep_round: 3\n",
      "\tsteps: 1\n",
      "\tstg_reg: 0.001\n",
      "\tvariance_gamma: 1.0\n",
      "\tvib_lr: 0.005\n",
      "\tz_class_num: 4\n",
      "Restart 0\n",
      "step            train loss      train penalty   train_acc       test_acc        test_e0         test_e1         test_e2         test_e3      \n",
      "1               0.67423         0.00017         0.64056         0.61158         0.58656         0.64759         0.64818         0.60390      \n",
      "Restart 1\n",
      "step            train loss      train penalty   train_acc       test_acc        test_e0         test_e1         test_e2         test_e3      \n",
      "1               0.71831         0.00186         0.51868         0.56777         0.58531         0.51353         0.51906         0.57930      \n",
      "Restart 2\n",
      "step            train loss      train penalty   train_acc       test_acc        test_e0         test_e1         test_e2         test_e3      \n",
      "1               0.74128         0.00276         0.48123         0.54883         0.58313         0.45017         0.50390         0.56638      \n",
      "Final train acc (mean/std across restarts so far):\n",
      "0.54682165 0.06802221\n",
      "Final test acc (mean/std across restarts so far):\n",
      "0.57605976 0.026282776\n",
      "Worst test acc in evns: \n",
      "0.5167559 0.05572767\n"
     ]
    },
    {
     "name": "stderr",
     "output_type": "stream",
     "text": [
      "D:\\ProgramData\\Anaconda3\\envs\\wyc\\Lib\\site-packages\\torch\\_tensor.py:775: UserWarning: non-inplace resize is deprecated\n",
      "  warnings.warn(\"non-inplace resize is deprecated\")\n",
      "D:\\ProgramData\\Anaconda3\\envs\\wyc\\Lib\\site-packages\\torch\\_tensor.py:775: UserWarning: non-inplace resize is deprecated\n",
      "  warnings.warn(\"non-inplace resize is deprecated\")\n",
      "D:\\ProgramData\\Anaconda3\\envs\\wyc\\Lib\\site-packages\\torch\\_tensor.py:775: UserWarning: non-inplace resize is deprecated\n",
      "  warnings.warn(\"non-inplace resize is deprecated\")\n"
     ]
    }
   ],
   "source": [
    "!{full_command}"
   ]
  }
 ],
 "metadata": {
  "kernelspec": {
   "display_name": "wyc",
   "language": "python",
   "name": "python3"
  },
  "language_info": {
   "codemirror_mode": {
    "name": "ipython",
    "version": 3
   },
   "file_extension": ".py",
   "mimetype": "text/x-python",
   "name": "python",
   "nbconvert_exporter": "python",
   "pygments_lexer": "ipython3",
   "version": "3.11.5"
  }
 },
 "nbformat": 4,
 "nbformat_minor": 2
}
