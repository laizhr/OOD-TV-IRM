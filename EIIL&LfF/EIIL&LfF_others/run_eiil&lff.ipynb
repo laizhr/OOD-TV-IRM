{
 "cells": [
  {
   "cell_type": "code",
   "execution_count": 12,
   "metadata": {},
   "outputs": [],
   "source": [
    "def create_command(searchArgs: dict):\n",
    "    argSentence = \"\"\n",
    "    for key, value in searchArgs.items():\n",
    "        arg_command = f\"--{key} {str(value)} \"\n",
    "        argSentence += arg_command\n",
    "    return argSentence\n"
   ]
  },
  {
   "cell_type": "code",
   "execution_count": 13,
   "metadata": {},
   "outputs": [],
   "source": [
    "from parameter import parameterMap\n",
    "\n",
    "# replace the path to your python.exe\n",
    "PYTHON_PATH = \"D:\\ProgramData\\Anaconda3\\envs\\wyc\\python.exe\"\n",
    "COMMAND = f\"{PYTHON_PATH} main.py \"\n",
    "# this defines the algorithms and datasets you can run\n",
    "algorithmList = [ \"EIIL\",\"LfF\"]\n",
    "datasetList = [\n",
    "    \"house_price\",\n",
    "    \"celebaz_feature\",\n",
    "    \"logit_z\",\n",
    "    \"landcover\",\n",
    "]"
   ]
  },
  {
   "cell_type": "code",
   "execution_count": null,
   "metadata": {},
   "outputs": [
    {
     "name": "stdout",
     "output_type": "stream",
     "text": [
      "D:\\ProgramData\\Anaconda3\\envs\\wyc\\python.exe main.py  --aux_num 2 --batch_size 1024 --seed 112 --classes_num 6 --dataset landcover --opt adam --l2_regularizer_weight 0.001 --n_restarts 1 --num_classes 6 --z_class_num 2 --penalty_weight 2 --irm_type lff --lr 0.08 --steps 1 --penalty_anneal_iters 50 --scheduler 1 \n"
     ]
    }
   ],
   "source": [
    "# for algorithm in algorithmList:\n",
    "#     for dataset in datasetList:\n",
    "\n",
    "# choose the algorithm and dataset you want to run  \n",
    "algorithm = algorithmList[1]\n",
    "dataset = datasetList[3]\n",
    "arg = parameterMap[algorithm][dataset]\n",
    "argSentence = create_command(arg)\n",
    "full_command = f\"{COMMAND} {argSentence}\"\n",
    "print(full_command)"
   ]
  },
  {
   "cell_type": "code",
   "execution_count": 15,
   "metadata": {},
   "outputs": [
    {
     "name": "stdout",
     "output_type": "stream",
     "text": [
      "batch_size is 1024\n",
      "\taux_num: 2\n",
      "\tbatch_size: 1024\n",
      "\tclasses_num: 6\n",
      "\tcons_ratio: 0.999_0.7_0.999_0.001\n",
      "\tcons_test: 0.999_0.001\n",
      "\tcons_train: 0.999_0.7\n",
      "\tdata_num_test: 2000\n",
      "\tdata_num_train: 2000\n",
      "\tdataset: landcover\n",
      "\tdim_inv: 2\n",
      "\tdim_spu: 10\n",
      "\tenv_type: linear\n",
      "\tenvs_num_test: 2\n",
      "\tenvs_num_train: 2\n",
      "\thidden_dim: 16\n",
      "\thidden_dim_infer: 16\n",
      "\timage_scale: 64\n",
      "\tirm_type: lff\n",
      "\tl2_regularizer_weight: 0.001\n",
      "\tlr: 0.08\n",
      "\tn_restarts: 1\n",
      "\tnoise_ratio: 0.1\n",
      "\tnum_classes: 6\n",
      "\topt: adam\n",
      "\tpenalty_anneal_iters: 50\n",
      "\tpenalty_weight: 2.0\n",
      "\tprint_every: 1\n",
      "\tscheduler: 1\n",
      "\tseed: 112\n",
      "\tsteps: 1\n",
      "\tz_class_num: 2\n",
      "Restart 0\n",
      "landcover dataset loaded\n",
      "step            train loss      train penalty   train acc       test_acc        test_e0         test_e1      \n",
      "0               nan             0.10000         0.27942         0.37671         0.38574         0.36768      \n",
      "Worst test acc in evns: \n",
      "nan\n",
      "IID Test:\n",
      "tensor(0.2733, device='cuda:0')\n",
      "best results:\n",
      "{'val_acc': tensor(0.2733, device='cuda:0'), 'epoch': 0, 'train_acc': tensor(0.2794, device='cuda:0'), 'test_acc': tensor(0.3767, device='cuda:0')}\n"
     ]
    },
    {
     "name": "stderr",
     "output_type": "stream",
     "text": [
      "D:\\ProgramData\\Anaconda3\\envs\\wyc\\Lib\\site-packages\\torch\\_tensor.py:775: UserWarning: non-inplace resize is deprecated\n",
      "  warnings.warn(\"non-inplace resize is deprecated\")\n",
      "D:\\ProgramData\\Anaconda3\\envs\\wyc\\Lib\\site-packages\\numpy\\core\\fromnumeric.py:3504: RuntimeWarning: Mean of empty slice.\n",
      "  return _methods._mean(a, axis=axis, dtype=dtype,\n",
      "D:\\ProgramData\\Anaconda3\\envs\\wyc\\Lib\\site-packages\\numpy\\core\\_methods.py:129: RuntimeWarning: invalid value encountered in scalar divide\n",
      "  ret = ret.dtype.type(ret / rcount)\n"
     ]
    }
   ],
   "source": [
    "!{full_command}"
   ]
  }
 ],
 "metadata": {
  "kernelspec": {
   "display_name": "wyc",
   "language": "python",
   "name": "python3"
  },
  "language_info": {
   "codemirror_mode": {
    "name": "ipython",
    "version": 3
   },
   "file_extension": ".py",
   "mimetype": "text/x-python",
   "name": "python",
   "nbconvert_exporter": "python",
   "pygments_lexer": "ipython3",
   "version": "3.11.5"
  }
 },
 "nbformat": 4,
 "nbformat_minor": 2
}
