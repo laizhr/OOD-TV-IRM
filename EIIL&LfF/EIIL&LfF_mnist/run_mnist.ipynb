{
 "cells": [
  {
   "cell_type": "code",
   "execution_count": 1,
   "metadata": {},
   "outputs": [],
   "source": [
    "def create_command(searchArgs: dict):\n",
    "    argSentence = \"\"\n",
    "    for key, value in searchArgs.items():\n",
    "        arg_command = f\"--{key} {str(value)} \"\n",
    "        argSentence += arg_command\n",
    "    return argSentence\n"
   ]
  },
  {
   "cell_type": "code",
   "execution_count": 2,
   "metadata": {},
   "outputs": [],
   "source": [
    "from parameter import parameterMap\n",
    "\n",
    "# replace the path to your python.exe\n",
    "PYTHON_PATH = \"D:\\ProgramData\\Anaconda3\\envs\\wyc\\python.exe\"\n",
    "COMMAND = f\"{PYTHON_PATH} main.py \"\n",
    "# this defines the algorithms and datasets you can run\n",
    "algorithmList = [\"EIIL\",\"LfF\"]\n",
    "datasetList = [\"mnist\"]"
   ]
  },
  {
   "cell_type": "code",
   "execution_count": 3,
   "metadata": {},
   "outputs": [
    {
     "name": "stdout",
     "output_type": "stream",
     "text": [
      "D:\\ProgramData\\Anaconda3\\envs\\wyc\\python.exe main.py  --aux_num 3 --batch_size 1024 --seed 112 --classes_num 3 --dataset mnist --opt adam --l2_regularizer_weight 0.001 --n_restarts 1 --num_classes 6 --z_class_num 1 --noise_ratio 0.2 --cons_train 0.999_0.8 --cons_test 0.01_0.2_0.8_0.999 --penalty_weight 200000 --dim_inv 5 --dim_sp 5 --irm_type eiil --lr 0.0001 --steps 1 --penalty_anneal_iters 2 --data_num_train 2000 \n"
     ]
    }
   ],
   "source": [
    "# choose the algorithm and dataset you want to run\n",
    "algorithm = algorithmList[0]\n",
    "dataset = datasetList[0]\n",
    "arg = parameterMap[algorithm][dataset]\n",
    "argSentence = create_command(arg)\n",
    "full_command = f\"{COMMAND} {argSentence}\"\n",
    "print(full_command)"
   ]
  },
  {
   "cell_type": "code",
   "execution_count": 4,
   "metadata": {},
   "outputs": [
    {
     "name": "stdout",
     "output_type": "stream",
     "text": [
      "batch_size is 1024\n",
      "\taux_num: 3\n",
      "\tbatch_size: 1024\n",
      "\tclasses_num: 3\n",
      "\tcons_ratio: 0.999_0.8_0.01_0.2_0.8_0.999\n",
      "\tcons_test: 0.01_0.2_0.8_0.999\n",
      "\tcons_train: 0.999_0.8\n",
      "\tdata_num_test: 2000\n",
      "\tdata_num_train: 2000\n",
      "\tdataset: mnist\n",
      "\tdim_inv: 5\n",
      "\tdim_spu: 5\n",
      "\tenv_type: linear\n",
      "\tenvs_num_test: 4\n",
      "\tenvs_num_train: 2\n",
      "\thidden_dim: 16\n",
      "\thidden_dim_infer: 16\n",
      "\timage_scale: 64\n",
      "\tirm_type: eiil\n",
      "\tl2_regularizer_weight: 0.001\n",
      "\tlr: 0.0001\n",
      "\tn_restarts: 1\n",
      "\tnoise_ratio: 0.2\n",
      "\tnum_classes: 6\n",
      "\topt: adam\n",
      "\tpenalty_anneal_iters: 2\n",
      "\tpenalty_weight: 200000.0\n",
      "\tprint_every: 1\n",
      "\tscheduler: 0\n",
      "\tseed: 112\n",
      "\tsteps: 1\n",
      "\tz_class_num: 1\n",
      "Restart 0\n",
      "2000\n"
     ]
    },
    {
     "name": "stderr",
     "output_type": "stream",
     "text": [
      "\n",
      "  0%|          | 0/1 [00:00<?, ?it/s]\n",
      "100%|██████████| 1/1 [01:17<00:00, 77.61s/it]\n",
      "100%|██████████| 1/1 [01:17<00:00, 77.61s/it]\n"
     ]
    }
   ],
   "source": [
    "!{full_command}"
   ]
  }
 ],
 "metadata": {
  "kernelspec": {
   "display_name": "wyc",
   "language": "python",
   "name": "python3"
  },
  "language_info": {
   "codemirror_mode": {
    "name": "ipython",
    "version": 3
   },
   "file_extension": ".py",
   "mimetype": "text/x-python",
   "name": "python",
   "nbconvert_exporter": "python",
   "pygments_lexer": "ipython3",
   "version": "3.11.5"
  }
 },
 "nbformat": 4,
 "nbformat_minor": 2
}
